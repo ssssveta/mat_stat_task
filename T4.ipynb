{
 "cells": [
  {
   "cell_type": "code",
   "execution_count": 2,
   "id": "dd4df807-2310-420f-bd69-34e2830dbd29",
   "metadata": {},
   "outputs": [],
   "source": [
    "import matplotlib.pyplot as plt\n",
    "import random\n",
    "import numpy as np"
   ]
  },
  {
   "cell_type": "code",
   "execution_count": 3,
   "id": "c170f169-8ebf-469b-8115-2c040f084e43",
   "metadata": {},
   "outputs": [],
   "source": [
    "n=100\n",
    "teta=20 #некоторое значение параметра \n",
    "x = np.random.uniform(teta,2*teta,n)\n",
    "x = x.round(3)\n",
    "beta=0.95\n",
    "#print(x)"
   ]
  },
  {
   "cell_type": "code",
   "execution_count": 4,
   "id": "18f17494-033f-4a8d-9088-cc49c42a0c33",
   "metadata": {},
   "outputs": [],
   "source": [
    "#d) Точный доверительный интервал "
   ]
  },
  {
   "cell_type": "code",
   "execution_count": 5,
   "id": "925c0b3f-eb90-420e-8c1a-cc792bcae1e4",
   "metadata": {},
   "outputs": [
    {
     "name": "stdout",
     "output_type": "stream",
     "text": [
      "(t1,t2) ( 19.986 , 20.28 )\n"
     ]
    }
   ],
   "source": [
    "t_1,t_2=x.max()/(1+(beta)**(1/n)), x.max()/(1+(1-beta)**(1/n))\n",
    "print(\"(t1,t2)\", \"(\" ,round(t_1,3),\",\", round(t_2,3), \")\")"
   ]
  },
  {
   "cell_type": "code",
   "execution_count": 6,
   "id": "1c695313-ab13-4e99-922e-0d6835df11ef",
   "metadata": {},
   "outputs": [],
   "source": [
    "#e) Асимптотический доверительный интервал "
   ]
  },
  {
   "cell_type": "code",
   "execution_count": 7,
   "id": "7f363698-9fea-4ee3-95c1-ce6982dd51c4",
   "metadata": {},
   "outputs": [],
   "source": [
    "#ОММ"
   ]
  },
  {
   "cell_type": "code",
   "execution_count": 8,
   "id": "570bafc7-7623-4ef8-a58c-3bc7dcde0aef",
   "metadata": {},
   "outputs": [
    {
     "name": "stdout",
     "output_type": "stream",
     "text": [
      "Доверительный интервал по ОММ ( 19.035 ,  20.527 )\n"
     ]
    }
   ],
   "source": [
    "beg= 2 * np.sqrt(3*n) * np.mean(x) / (1.96 + 3*np.sqrt(3*n))\n",
    "end = 2 * np.sqrt(3*n) * np.mean(x) / (-1.96+ 3*np.sqrt(3*n))\n",
    "print('Доверительный интервал по ОММ (', round(beg,3), ', ', round(end, 3), ')')"
   ]
  },
  {
   "cell_type": "code",
   "execution_count": 190,
   "id": "8432f277-af08-490d-a6e1-0c41d51ed8c1",
   "metadata": {},
   "outputs": [],
   "source": [
    "#ОМП"
   ]
  },
  {
   "cell_type": "code",
   "execution_count": 9,
   "id": "83f6c643-79db-41df-b38e-86429edcc968",
   "metadata": {},
   "outputs": [
    {
     "name": "stdout",
     "output_type": "stream",
     "text": [
      "Доверительный интервал по ОМП ( 16.79 ,  24.976 )\n"
     ]
    }
   ],
   "source": [
    "s = ((n+1) * np.max(x)) / ((2*n+1)*(1.96/np.sqrt(n) + 1))\n",
    "f= ((n+1) * np.max(x)) / ((2*n+1)*(-1.96/np.sqrt(n) + 1))\n",
    "print('Доверительный интервал по ОМП (', round(s,3), ', ', round(f, 3), ')')"
   ]
  },
  {
   "cell_type": "code",
   "execution_count": 10,
   "id": "dd14190b-ce6c-4710-b593-d3224ddeb200",
   "metadata": {},
   "outputs": [],
   "source": [
    "# g) Bootstrap"
   ]
  },
  {
   "cell_type": "code",
   "execution_count": 11,
   "id": "49da3ab7-abb9-4756-a514-6f48a44c9d13",
   "metadata": {},
   "outputs": [
    {
     "name": "stdout",
     "output_type": "stream",
     "text": [
      "Бутстраповский доверительный интервал ( 18.919 ,  20.581 )\n"
     ]
    }
   ],
   "source": [
    "delta = np.array([])\n",
    "teta_ = 2/3*x.mean()\n",
    "for i in range(0,1000):\n",
    "    bootstrap = np.random.choice(x, size=x.shape[0]).round(3) \n",
    "    delta = np.append(delta, 2/3*bootstrap.mean() - teta_)\n",
    "delta.sort() #вар ряд\n",
    "b1,b2= teta_ - delta[974], teta_ - delta[24]\n",
    "print('Бутстраповский доверительный интервал (', round(b1,3), ', ', round(b2, 3), ')')"
   ]
  },
  {
   "cell_type": "code",
   "execution_count": 12,
   "id": "10dd2a30-ea3b-449f-a7de-7d723fdd3ec8",
   "metadata": {},
   "outputs": [],
   "source": [
    "# h) Сравнение интервалов"
   ]
  },
  {
   "cell_type": "code",
   "execution_count": 25,
   "id": "a6e0b29b-dfcc-4aac-9314-3db002ed032d",
   "metadata": {},
   "outputs": [
    {
     "name": "stdout",
     "output_type": "stream",
     "text": [
      "l_bootstrap 1.662\n",
      "l_Асимптотический ОМП 8.186\n",
      "l_Асимптотический ОММ 1.492\n",
      "l_точный 0.294\n",
      "l_min точный 0.294\n"
     ]
    },
    {
     "data": {
      "image/png": "[encoded data removed]",
      "text/plain": [
       "<Figure size 576x360 with 1 Axes>"
      ]
     },
     "metadata": {
      "needs_background": "light"
     },
     "output_type": "display_data"
    }
   ],
   "source": [
    "fig, ax = plt.subplots(figsize=(8,5))\n",
    "ax.plot([b1, b2], [2, 2], label = 'Bootstrap')\n",
    "ax.plot([s,f], [1, 1], label = 'Асимптотический ОМП')\n",
    "ax.plot([beg, end], [0, 0], label = 'Асимптотический OММ')\n",
    "ax.plot([t_1, t_2], [3, 3], label = 'Точный')\n",
    "ax.plot([teta, teta], [0,3], label = 'teta')\n",
    "ax.set_title('Сравнение')    \n",
    "ax.set_xlabel('teta')\n",
    "ax.legend();\n",
    "\n",
    "a_b=b2-b1\n",
    "print(\"l_bootstrap\", a_b.round(3))\n",
    "a_p=f-s\n",
    "print(\"l_Асимптотический ОМП\", a_p.round(3))\n",
    "a_m=end-beg\n",
    "print(\"l_Асимптотический ОММ\", a_m.round(3))\n",
    "a_t=t_2-t_1\n",
    "print(\"l_точный\", a_t.round(3))\n",
    "a=[a_b,a_p,a_m,a_t]\n",
    "t=(min(a))\n",
    "\n",
    "for i in range(0,4):\n",
    "    if (a[i]==t):\n",
    "        if i==0:\n",
    "            print(\"l_min bootstrap\",t.round(3))\n",
    "        if i==1:\n",
    "            print(\"l_min Асимптотический ОМП\",t.round(3))\n",
    "        if i==2:\n",
    "            print(\"l_min Асимптотический ОМM\",t.round(3))\n",
    "        if i==3:\n",
    "            print(\"l_min точный\",t.round(3))\n",
    "        \n",
    "#print(a)"
   ]
  },
  {
   "cell_type": "code",
   "execution_count": null,
   "id": "fb0c337a-e38a-4839-85ef-a6f80d1b8bad",
   "metadata": {},
   "outputs": [],
   "source": []
  },
  {
   "cell_type": "code",
   "execution_count": null,
   "id": "6ebeb75a-4ba2-46b3-a9cd-8feaa73056d2",
   "metadata": {},
   "outputs": [],
   "source": []
  },
  {
   "cell_type": "code",
   "execution_count": null,
   "id": "54cc4abd-6979-4141-98ab-455997024fd6",
   "metadata": {},
   "outputs": [],
   "source": []
  },
  {
   "cell_type": "code",
   "execution_count": null,
   "id": "2a644cfd-4d9a-4c46-a4a2-afdfb1e9a73f",
   "metadata": {},
   "outputs": [],
   "source": []
  }
 ],
 "metadata": {
  "kernelspec": {
   "display_name": "Python 3",
   "language": "python",
   "name": "python3"
  },
  "language_info": {
   "codemirror_mode": {
    "name": "ipython",
    "version": 3
   },
   "file_extension": ".py",
   "mimetype": "text/x-python",
   "name": "python",
   "nbconvert_exporter": "python",
   "pygments_lexer": "ipython3",
   "version": "3.8.8"
  }
 },
 "nbformat": 4,
 "nbformat_minor": 5
}
