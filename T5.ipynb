{
 "cells": [
  {
   "cell_type": "code",
   "execution_count": 124,
   "id": "5ef58276-2b53-49cf-9078-32e0a52397be",
   "metadata": {},
   "outputs": [],
   "source": [
    "import matplotlib.pyplot as plt\n",
    "import random\n",
    "import numpy as np\n",
    "import scipy.stats as sts\n",
    "from scipy.integrate import quad"
   ]
  },
  {
   "cell_type": "code",
   "execution_count": 125,
   "id": "db7a6c50-7356-4682-82db-4adac57f5dff",
   "metadata": {},
   "outputs": [],
   "source": [
    "n=100\n",
    "teta=3 #некоторое значение параметра \n",
    "x=sts.pareto(b=teta).rvs(100)\n",
    "beta=0.95"
   ]
  },
  {
   "cell_type": "code",
   "execution_count": 126,
   "id": "54eafa70-f9da-4b7f-ab6e-55067a2e3f7c",
   "metadata": {},
   "outputs": [],
   "source": [
    "# b) Доверительный интервал для медианы"
   ]
  },
  {
   "cell_type": "code",
   "execution_count": 127,
   "id": "2961a8b9-5500-4bfd-80ba-6d29f32ce913",
   "metadata": {},
   "outputs": [
    {
     "name": "stdout",
     "output_type": "stream",
     "text": [
      "Доверительный интервал для медианы( 1.154 , 1.295 )\n",
      "x_med 1.2165159383672508\n"
     ]
    }
   ],
   "source": [
    "t=n/np.sum(np.log(x))+1 # омп\n",
    "a=2**(1/(t-1))*(1-1.97/(np.sqrt(n)*(t-1)))\n",
    "b=2**(1/(t-1))*(1+1.97/(np.sqrt(n)*(t-1)))\n",
    "print('Доверительный интервал для медианы(', round(a,3), ',', round(b, 3), ')')\n",
    "x_med=(np.sort(x)[49] + np.sort(x)[48])/2\n",
    "print(\"x_med\", x_med)"
   ]
  },
  {
   "cell_type": "code",
   "execution_count": 128,
   "id": "4809aa6d-64e0-46af-8e81-327acd9c96d4",
   "metadata": {},
   "outputs": [],
   "source": [
    "#quantile(x, (1+beta)/2)=1.97  для beta=0.95\n",
    "#quantile(x, (1+beta)/2)=-1.97 "
   ]
  },
  {
   "cell_type": "code",
   "execution_count": 129,
   "id": "7af276a5-ccea-4016-9b9d-ad95c6369c4f",
   "metadata": {},
   "outputs": [],
   "source": [
    "#c) Байесовский доверительный интервал "
   ]
  },
  {
   "cell_type": "code",
   "execution_count": 130,
   "id": "94c7985e-955f-47e8-9f46-05c4ed71e3a6",
   "metadata": {},
   "outputs": [],
   "source": [
    "p=np.product(x)"
   ]
  },
  {
   "cell_type": "code",
   "execution_count": 131,
   "id": "058ac95a-64a1-4913-9aec-31fd680e00c8",
   "metadata": {},
   "outputs": [],
   "source": [
    "def f(x,n,p):\n",
    "    return np.exp(1-x)*(x-1)**n / (p**x)\n",
    "\n",
    "def integral_1(p, c=None, v=0.025):\n",
    "    integral=0\n",
    "    low=1\n",
    "    hight=10e2\n",
    "    step=10e-4\n",
    "    mas_index=np.arange(low, hight, step)\n",
    "    \n",
    "    if c is not None:\n",
    "        for i in range(len(mas_index)-1):\n",
    "                    t=step*0.5*(f(mas_index[i],n,p)+f(mas_index[i+1], n, p))*c\n",
    "                    integral+=t\n",
    "                    if integral>=v:\n",
    "                        return mas_index[i]\n",
    "    else:\n",
    "        for i in range(len(mas_index)-1):\n",
    "                t=step*0.5*(f(mas_index[i], n, p)+f(mas_index[i+1], n, p)) \n",
    "                integral+=t\n",
    "        return integral"
   ]
  },
  {
   "cell_type": "code",
   "execution_count": 132,
   "id": "11ddb42c-9346-4286-a445-d5bca76728f4",
   "metadata": {},
   "outputs": [
    {
     "name": "stderr",
     "output_type": "stream",
     "text": [
      "<ipython-input-131-5545b68d24d7>:2: RuntimeWarning: overflow encountered in double_scalars\n",
      "  return np.exp(1-x)*(x-1)**n / (p**x)\n"
     ]
    },
    {
     "name": "stdout",
     "output_type": "stream",
     "text": [
      "Байесовский доверительный интервал ( 3.719 , 5.019 )\n",
      "teta 3\n"
     ]
    }
   ],
   "source": [
    "integ=integral_1(p)\n",
    "c=1/integ\n",
    "a_b=integral_1(p,c,0.025)\n",
    "b_b=integral_1(p,c,0.975)\n",
    "print('Байесовский доверительный интервал (', np.round(a_b,4), ',', np.round(b_b,4), ')')\n",
    "print('teta', teta)"
   ]
  },
  {
   "cell_type": "code",
   "execution_count": 133,
   "id": "aaa1860a-2be6-4ac6-b053-938ee0011042",
   "metadata": {},
   "outputs": [],
   "source": [
    "#d) Асимпотический доверительный интервал для  параметра teta"
   ]
  },
  {
   "cell_type": "code",
   "execution_count": 134,
   "id": "62a63364-e0d8-454c-bcc7-7892e5ae1490",
   "metadata": {},
   "outputs": [
    {
     "name": "stdout",
     "output_type": "stream",
     "text": [
      "Асимпотический доверительный интервал для параметра  teta: ( 3.748 , 5.088 )\n",
      "teta 3\n"
     ]
    }
   ],
   "source": [
    "a1=t-1.96*(t-1)/(n**0.5)\n",
    "b1=t+1.96*(t-1)/(n**0.5)\n",
    "print('Асимпотический доверительный интервал для параметра  teta: (', round(a1,3), ',', round(b1, 3), ')')\n",
    "print('teta', teta)"
   ]
  },
  {
   "cell_type": "code",
   "execution_count": 135,
   "id": "68729c95-a90b-4b30-9c22-0a87b2a6a51f",
   "metadata": {},
   "outputs": [],
   "source": [
    "# e) Вootstrap"
   ]
  },
  {
   "cell_type": "code",
   "execution_count": 136,
   "id": "6d5a8947-a4cf-40b7-8880-90448a01dc70",
   "metadata": {},
   "outputs": [],
   "source": [
    "#непараметрический "
   ]
  },
  {
   "cell_type": "code",
   "execution_count": 145,
   "id": "860d8ca2-49f3-44ee-8799-bb43e3c182c4",
   "metadata": {
    "tags": []
   },
   "outputs": [
    {
     "name": "stdout",
     "output_type": "stream",
     "text": [
      "Bootstrap доверительный интервал ( 3.886 ,  5.223 )\n",
      "teta 3\n"
     ]
    }
   ],
   "source": [
    "s_delta=[]\n",
    "for i in range(1000):\n",
    "    bootstrap=np.random.choice(x,size=x.shape[0]).round(3)\n",
    "    delta=n/np.sum(np.log(bootstrap))+1-t\n",
    "    s_delta.append(delta)\n",
    "a3=np.sort(np.array(s_delta))[24]+t\n",
    "b3=np.sort(np.array(s_delta))[974]+t\n",
    "print('Bootstrap доверительный интервал (', round(a3,3), ', ', round(b3, 3), ')')\n",
    "print('teta', teta)"
   ]
  },
  {
   "cell_type": "code",
   "execution_count": 143,
   "id": "93aeb28a-60ab-4f2d-8b56-0e33a88ba9de",
   "metadata": {},
   "outputs": [],
   "source": [
    "#параметрический"
   ]
  },
  {
   "cell_type": "code",
   "execution_count": 148,
   "id": "76fdfde9-d63f-490e-984a-a33559992709",
   "metadata": {},
   "outputs": [
    {
     "name": "stdout",
     "output_type": "stream",
     "text": [
      "параметрический bootstrap доверительный интервал ( 3.491 ,  4.695 )\n",
      "teta 3\n"
     ]
    }
   ],
   "source": [
    "delta_p=[]\n",
    "N=20000\n",
    "for i in range(N):\n",
    "    bootstrap=sts.pareto(b = teta).rvs(100)\n",
    "    delta=n/np.sum(np.log(bootstrap))+1-t\n",
    "    delta_p.append(delta)\n",
    "k1=int((1-beta)/2 * N)\n",
    "k2=int((1+beta)/2 * N)\n",
    "a_par=t+np.sort(np.array(delta_p))[k1]\n",
    "b_par=t+np.sort(np.array(delta_p))[k2]\n",
    "print('параметрический bootstrap доверительный интервал (', round(a_par,3), ', ', round(b_par, 3), ')') \n",
    "print('teta', teta)"
   ]
  },
  {
   "cell_type": "code",
   "execution_count": null,
   "id": "b4dc70cd-e7ce-4b87-a38e-478a63688b03",
   "metadata": {},
   "outputs": [],
   "source": []
  },
  {
   "cell_type": "code",
   "execution_count": null,
   "id": "ef3ca8d4-9720-4eca-a205-3b9bc6e59ddb",
   "metadata": {},
   "outputs": [],
   "source": []
  }
 ],
 "metadata": {
  "kernelspec": {
   "display_name": "Python 3",
   "language": "python",
   "name": "python3"
  },
  "language_info": {
   "codemirror_mode": {
    "name": "ipython",
    "version": 3
   },
   "file_extension": ".py",
   "mimetype": "text/x-python",
   "name": "python",
   "nbconvert_exporter": "python",
   "pygments_lexer": "ipython3",
   "version": "3.8.8"
  }
 },
 "nbformat": 4,
 "nbformat_minor": 5
}
