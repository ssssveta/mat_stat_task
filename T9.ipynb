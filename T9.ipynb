{
 "cells": [
  {
   "cell_type": "code",
   "execution_count": 3,
   "id": "48450461-2d81-40af-8cb0-d3c887ca1d51",
   "metadata": {},
   "outputs": [],
   "source": [
    "import numpy as np\n",
    "import math\n",
    "import scipy\n",
    "import random\n",
    "from scipy.integrate import quad\n",
    "import matplotlib.pyplot as plt\n",
    "from scipy import integrate\n",
    "from scipy.stats import norm, uniform, chi2"
   ]
  },
  {
   "cell_type": "code",
   "execution_count": 4,
   "id": "a0eef4ff-4eef-446a-9276-fd1befde51d3",
   "metadata": {},
   "outputs": [],
   "source": [
    "N=100\n",
    "t=[5,8,6,12,14,18,11,6,13,7]\n",
    "a=0.05"
   ]
  },
  {
   "cell_type": "code",
   "execution_count": 5,
   "id": "b3b1e643-90fe-42ac-8b78-526552470fd7",
   "metadata": {},
   "outputs": [],
   "source": [
    "# а) сравнение критерий согласия Колмагорова и крит согласия Пирсона "
   ]
  },
  {
   "cell_type": "code",
   "execution_count": 6,
   "id": "cef71ca2-b00f-4d5f-9a3c-360c6f93349b",
   "metadata": {},
   "outputs": [],
   "source": [
    "mas=[]\n",
    "for i in range (len(t)):\n",
    "      mas.extend([i for j in range(t[i])])\n",
    "#эмперическая функция распределенияx\n",
    "x=np.linspace(0, 9, 100)\n",
    "empirical=[np.sum(mas<i)/N for i in x]\n",
    "e=empirical\n",
    "#функция равномерного з-на распределения\n",
    "f_t=[i/10 for  i in x]"
   ]
  },
  {
   "cell_type": "code",
   "execution_count": 7,
   "id": "a87d237e-ce66-4379-b343-ba57b069c960",
   "metadata": {},
   "outputs": [
    {
     "data": {
      "image/png": "[encoded data removed]",
      "text/plain": [
       "<Figure size 720x360 with 1 Axes>"
      ]
     },
     "metadata": {
      "needs_background": "light"
     },
     "output_type": "display_data"
    }
   ],
   "source": [
    "fig, ax = plt.subplots(figsize=(10,5))\n",
    "ax.grid(which=\"major\",linewidth = 1 )\n",
    "ax.set_xticks(np.linspace(0, 10, 11))\n",
    "ax.set_yticks(np.linspace(0, 1, 12))\n",
    "ax.set_xlabel('элементы выборки xn')\n",
    "ax.set_ylabel('F')\n",
    "plt.plot(x,e, color = 'black', label ='эмпирическая функция распределения')\n",
    "plt.plot (x, f_t, color = 'blue', label ='функция равномерного з-на распределения')\n",
    "ax.legend()\n",
    "plt.show()"
   ]
  },
  {
   "cell_type": "code",
   "execution_count": 8,
   "id": "780f448d-8c92-4139-b5b7-4b69ea661042",
   "metadata": {},
   "outputs": [],
   "source": [
    "c=[0]*len(f_t)\n",
    "def count_m(x,y):\n",
    "        for i in range(len(f_t)):\n",
    "            c[i]=abs(x[i]-y[i])\n",
    "        return c"
   ]
  },
  {
   "cell_type": "code",
   "execution_count": 9,
   "id": "6c5354a4-36be-4466-b61e-471bfbef9f7b",
   "metadata": {},
   "outputs": [
    {
     "name": "stdout",
     "output_type": "stream",
     "text": [
      "дельта с волной крит Колмагорова: 1.30909\n"
     ]
    }
   ],
   "source": [
    "delta_w=N**0.5*max(count_m(f_t, e))\n",
    "print('дельта с волной крит Колмагорова:', round(delta_w,5))"
   ]
  },
  {
   "cell_type": "code",
   "execution_count": 10,
   "id": "a823ad07-7201-4606-9898-84e6a71bf03d",
   "metadata": {},
   "outputs": [
    {
     "name": "stdout",
     "output_type": "stream",
     "text": [
      "p_value =  0.06494\n"
     ]
    }
   ],
   "source": [
    "s=0\n",
    "for i in range(1, 6): \n",
    "    s+=-2*(-1)**i * np.exp(-2 * i ** (2) * delta_w ** 2 ) \n",
    "p_value=s\n",
    "print('p_value = ', round(p_value,5))"
   ]
  },
  {
   "cell_type": "code",
   "execution_count": 11,
   "id": "1e998361-9c28-4ed9-86c3-bce77e1ae158",
   "metadata": {},
   "outputs": [
    {
     "name": "stdout",
     "output_type": "stream",
     "text": [
      "a= 0.05\n",
      "p_value>a\n",
      "нет оснований отвергнуть H0\n"
     ]
    }
   ],
   "source": [
    "flag=-1\n",
    "if (p_value<a):\n",
    "    print(\"a=\", a)\n",
    "    print(\"p_value<a\")\n",
    "    print(\"H0 отвергается \")\n",
    "    flag=0\n",
    "if (p_value>a):\n",
    "    print(\"a=\", a)\n",
    "    print(\"p_value>a\")\n",
    "    print(\"нет оснований отвергнуть H0\")\n",
    "    flag=1 # по критерию согласия Пирсона: нет оснований отвергнуть H0"
   ]
  },
  {
   "cell_type": "code",
   "execution_count": 12,
   "id": "2fa36e41-0528-4c79-86bd-9388c071bade",
   "metadata": {},
   "outputs": [
    {
     "name": "stdout",
     "output_type": "stream",
     "text": [
      "результаты критерия согласия Пирсона и критерия Колмагорова одинаковые\n"
     ]
    }
   ],
   "source": [
    "if flag==1:\n",
    "    print(\"результаты критерия согласия Пирсона и критерия Колмагорова одинаковые\")\n",
    "else:\n",
    "    print(\"результаты критерия согласия Пирсона и критерия Колмагорова различны\")"
   ]
  },
  {
   "cell_type": "code",
   "execution_count": 13,
   "id": "752f8ade-0626-407e-bd7a-677277a9a00d",
   "metadata": {},
   "outputs": [],
   "source": [
    "#b) проверить гипотезу о согласии данных с законом нормального распределения (кр Пирсона и кр Колмагорова). \n",
    "#сравнить результаты "
   ]
  },
  {
   "cell_type": "code",
   "execution_count": 14,
   "id": "ebfee387-8ff6-4430-9c1d-ddfa6ada2a44",
   "metadata": {},
   "outputs": [],
   "source": [
    "#Оценка параметров для нормального распределения по выборке"
   ]
  },
  {
   "cell_type": "code",
   "execution_count": 15,
   "id": "2913e6d1-ba96-4a9b-8dde-5f5c662a1cfa",
   "metadata": {
    "tags": []
   },
   "outputs": [],
   "source": [
    "def gauss_rule(x,mean,sigma):\n",
    "    return 1/(sigma * np.sqrt(2 * np.pi)) * np.exp(-(x - mean)**2 / (2 * sigma**2) )"
   ]
  },
  {
   "cell_type": "code",
   "execution_count": 16,
   "id": "36984579-f565-48df-a0e4-673f9d64e324",
   "metadata": {},
   "outputs": [
    {
     "name": "stdout",
     "output_type": "stream",
     "text": [
      "[-inf, 0.5, 1.5, 2.5, 3.5, 4.5, 5.5, 6.5, 7.5, 8.5, inf]\n"
     ]
    }
   ],
   "source": [
    "bound=[i/10 for i in range(5, 86, 10)]# разбиение\n",
    "bound.insert(0, -np.inf) #добавляем -np.inf \n",
    "bound.append(np.inf)\n",
    "print(bound)\n",
    "s=np.linspace(1,8,100)\n",
    "m=np.linspace(1,8,100)"
   ]
  },
  {
   "cell_type": "code",
   "execution_count": 17,
   "id": "b328ff81-61a0-4fcf-b4da-8f001af36a1d",
   "metadata": {},
   "outputs": [
    {
     "name": "stdout",
     "output_type": "stream",
     "text": [
      "sigma, mean 2.697 4.818\n"
     ]
    }
   ],
   "source": [
    "def param_maxim(t):\n",
    "    L_max=0 #максимизация функции правдоподобия \n",
    "    p_max=[0]*2\n",
    "    for sigma in s:\n",
    "        for mean in m:\n",
    "            l=1\n",
    "            for i in range(len(bound) - 1):\n",
    "                l*= quad(gauss_rule, bound[i], bound[i+1], args = (mean, sigma))[0]**t[i]\n",
    "            #l=np.prod(list(map(lambda x, y: x**y, p,t))) #произведение-функция правдоподобия\n",
    "            if l > L_max:\n",
    "                L_max = l\n",
    "                p_max[0]=mean\n",
    "                p_max[1]=sigma\n",
    "    return p_max[0], p_max[1]\n",
    "m_p,s_p=param_maxim(t)\n",
    "print(\"sigma, mean\", round(s_p,3), round(m_p,3))"
   ]
  },
  {
   "cell_type": "code",
   "execution_count": 18,
   "id": "5672ee7f-6d21-4233-aa42-5e23cf855c4d",
   "metadata": {},
   "outputs": [],
   "source": [
    "#крит согласия Пирсона "
   ]
  },
  {
   "cell_type": "code",
   "execution_count": 19,
   "id": "38db1d49-103d-4bd0-86d1-eb348428b49d",
   "metadata": {},
   "outputs": [
    {
     "name": "stdout",
     "output_type": "stream",
     "text": [
      "процент npi>5:  10.0 %, не группируем\n",
      "оценка расхождения с помощью критерия Пирсона 9.755\n"
     ]
    }
   ],
   "source": [
    "p_1=[]\n",
    "mean=m_p\n",
    "sigma=s_p\n",
    "for i in range(len(bound) - 1):\n",
    "    p_1.append(integrate.quad(gauss_rule, bound[i], bound[i+1], args = (mean, sigma))[0])\n",
    "    \n",
    "tmp=0\n",
    "for i in range(len(p_1)):\n",
    "    if (N*p_1[i]>5):\n",
    "         tmp+=1   \n",
    "if tmp*100/N<20:\n",
    "    print(\"процент npi>5: \", tmp*100/N, \"%, не группируем\")\n",
    "\n",
    "delta_1=[]\n",
    "for i in range(10):\n",
    "    delta_1.append((t[i] - N*p_1[i])**2/(N*p_1[i]))\n",
    "delta=np.sum(delta_1)\n",
    "print(f\"оценка расхождения с помощью критерия Пирсона\", round(delta, 3))"
   ]
  },
  {
   "cell_type": "code",
   "execution_count": 20,
   "id": "9baa6c9d-a62e-40a1-aace-8f64b2381f8f",
   "metadata": {},
   "outputs": [
    {
     "name": "stdout",
     "output_type": "stream",
     "text": [
      "[0.28782552 0.36234367 0.442492   0.52507418 0.60658921 0.68367042\n",
      " 0.75349668 0.81409331 0.86447091 0.90459321]\n"
     ]
    }
   ],
   "source": [
    "xn=np.arange(10)\n",
    "f_generation=norm(sigma, mean)\n",
    "print(f_generation.cdf(xn))"
   ]
  },
  {
   "cell_type": "code",
   "execution_count": 21,
   "id": "5d11f99a-6524-4c70-9115-f9a09e3c469e",
   "metadata": {},
   "outputs": [
    {
     "name": "stdout",
     "output_type": "stream",
     "text": [
      "[0.   0.05 0.13 0.19 0.31 0.45 0.63 0.74 0.8  0.93]\n"
     ]
    }
   ],
   "source": [
    "tmp=np.array([5, 8, 6, 12, 14, 18, 11, 6, 13, 7])\n",
    "def emp(x):\n",
    "    f=np.zeros(x.shape[0])\n",
    "    for i in range(x.shape[0]):\n",
    "        f[i] = np.sum(tmp[:i])/N\n",
    "    return f\n",
    "f_emp=emp(xn)\n",
    "print(f_emp)"
   ]
  },
  {
   "cell_type": "code",
   "execution_count": 22,
   "id": "09e7843f-fd5b-49cb-ae36-6b8d4ecaf28a",
   "metadata": {},
   "outputs": [],
   "source": [
    "#крит согласия Колмагорова "
   ]
  },
  {
   "cell_type": "code",
   "execution_count": 23,
   "id": "8d7bfb8e",
   "metadata": {},
   "outputs": [],
   "source": [
    "c_1=[0]*len(f_emp)\n",
    "def count_k(x,y):\n",
    "        for i in range(len(f_emp)):\n",
    "            c_1[i]=abs(x[i]-y[i])\n",
    "        return c_1\n"
   ]
  },
  {
   "cell_type": "code",
   "execution_count": 37,
   "id": "3a70466c-06e6-4335-9b1f-f1cee4d65ef1",
   "metadata": {},
   "outputs": [
    {
     "name": "stdout",
     "output_type": "stream",
     "text": [
      "дельта критерия Колмогорова, (численная оценка параметров) 0.81\n"
     ]
    }
   ],
   "source": [
    "f_1=[]\n",
    "for i in range(0,10):\n",
    "    f_1.append(integrate.quad(gauss_rule, -np.inf, i, args=(mean, sigma))[0])\n",
    "delta_k=max(count_k(f_1,f_emp))*10\n",
    "print(\"дельта критерия Колмогорова, (численная оценка параметров)\", round(delta_k,3))"
   ]
  },
  {
   "cell_type": "code",
   "execution_count": 38,
   "id": "130125b9",
   "metadata": {},
   "outputs": [],
   "source": [
    "#найдем оценку параметром методом моментов "
   ]
  },
  {
   "cell_type": "code",
   "execution_count": 39,
   "id": "6dcdcc71",
   "metadata": {},
   "outputs": [
    {
     "name": "stdout",
     "output_type": "stream",
     "text": [
      "оценка мат. ожидания:  4.77 оценка дисперсии:  2.505414137423193\n"
     ]
    }
   ],
   "source": [
    "teta1_est=np.sum(xn*tmp)/N\n",
    "teta2_est=(np.sum(np.square(teta1_est - xn)*tmp)/N)**0.5\n",
    "print('оценка мат. ожидания: ', teta1_est, 'оценка дисперсии: ', teta2_est)"
   ]
  },
  {
   "cell_type": "code",
   "execution_count": 40,
   "id": "2338ea3e",
   "metadata": {},
   "outputs": [],
   "source": [
    "F_norm=norm(teta1_est, teta2_est)"
   ]
  },
  {
   "cell_type": "code",
   "execution_count": 41,
   "id": "a19c58d5",
   "metadata": {},
   "outputs": [
    {
     "name": "stdout",
     "output_type": "stream",
     "text": [
      "дельта по крит Колмагорова, (оценка параметров методом моментов) 1.013\n"
     ]
    }
   ],
   "source": [
    "delta_est = N**0.5 * np.max(abs(f_emp- F_norm.cdf(xn)))\n",
    "print(\"дельта по крит Колмагорова, (оценка параметров методом моментов)\", round(delta_est,3))"
   ]
  },
  {
   "cell_type": "code",
   "execution_count": null,
   "id": "368bcfd0",
   "metadata": {},
   "outputs": [],
   "source": []
  },
  {
   "cell_type": "code",
   "execution_count": 23,
   "id": "0c3db1c8-a4c7-42e9-837c-1c7521b521b3",
   "metadata": {},
   "outputs": [],
   "source": [
    "#bootstrap"
   ]
  },
  {
   "cell_type": "code",
   "execution_count": 51,
   "id": "049ca1b9-ffce-47bd-832a-56d776a8054d",
   "metadata": {},
   "outputs": [],
   "source": [
    "delta_boot=np.zeros(10000)\n",
    "for i in range(10000):\n",
    "    y=np.random.normal(teta1_est,teta2_est,N ).astype(int)\n",
    "    \n",
    "    \n",
    "    teta1_boot = np.sum(y)/N\n",
    "    teta2_boot = (np.sum(np.square(teta1_boot - y))/N)**0.5\n",
    "    \n",
    "    F = norm(teta1_boot, teta2_boot)\n",
    "    delta_boot[i] = N**0.5 * np.max(abs(f_emp - F.cdf(xn)))"
   ]
  },
  {
   "cell_type": "code",
   "execution_count": 52,
   "id": "4a476971",
   "metadata": {},
   "outputs": [],
   "source": [
    "k = sum(delta_boot < delta_est)+1\n"
   ]
  },
  {
   "cell_type": "code",
   "execution_count": 53,
   "id": "65aa418d",
   "metadata": {},
   "outputs": [
    {
     "name": "stdout",
     "output_type": "stream",
     "text": [
      "p_value 0.9684\n"
     ]
    }
   ],
   "source": [
    "p_value_k = 1 - (k-1)/10000\n",
    "print(\"p_value\", p_value_k)"
   ]
  },
  {
   "cell_type": "code",
   "execution_count": 42,
   "id": "858d572f-9820-4cd7-9572-ea422565fd92",
   "metadata": {},
   "outputs": [],
   "source": [
    "#delta_arr =np.zeros(50000)\n",
    "#for i in range(50000):\n",
    "    #print(i)\n",
    "    #if not i%1000:\n",
    "     #   print('*',i)\n",
    "    #bootstrap =np.random.normal(mean,sigma, N).astype(int)\n",
    "    #count = np.zeros(10)\n",
    "    #for m in range (N):\n",
    "     #   for j in range(10):\n",
    "      #      if y[m]==j:\n",
    "     #           count[j]+=1\n",
    "   # m_i, sigma_i = param_maxim(count)\n",
    "    #arr_f =np.zeros(10)\n",
    "    #for j in range(0,10):\n",
    "    #    arr_f[j]=(integrate.quad(gauss_rule, bound[j], bound[j+1], args = (m_i, sigma_i))[0])\n",
    "    #delta_arr[i] = np.sum() max(count_k(arr_f,f_emp)))*10"
   ]
  },
  {
   "cell_type": "code",
   "execution_count": null,
   "id": "ca5a18df",
   "metadata": {},
   "outputs": [],
   "source": []
  }
 ],
 "metadata": {
  "kernelspec": {
   "display_name": "Python 3",
   "language": "python",
   "name": "python3"
  },
  "language_info": {
   "codemirror_mode": {
    "name": "ipython",
    "version": 3
   },
   "file_extension": ".py",
   "mimetype": "text/x-python",
   "name": "python",
   "nbconvert_exporter": "python",
   "pygments_lexer": "ipython3",
   "version": "3.8.8"
  }
 },
 "nbformat": 4,
 "nbformat_minor": 5
}
