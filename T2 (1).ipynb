{
 "cells": [
  {
   "cell_type": "code",
   "execution_count": 558,
   "id": "4cbc4a48",
   "metadata": {},
   "outputs": [],
   "source": [
    "import seaborn\n",
    "import numpy as np\n",
    "import matplotlib.pyplot as plt\n",
    "import random\n",
    "from scipy.stats import moment\n",
    "from scipy.stats import rv_continuous\n",
    "import scipy.stats as scs\n",
    "import seaborn"
   ]
  },
  {
   "cell_type": "code",
   "execution_count": 559,
   "id": "7da51750",
   "metadata": {},
   "outputs": [
    {
     "name": "stdout",
     "output_type": "stream",
     "text": [
      "[0.014 4.47  0.273 2.242 0.835 1.094 2.443 1.556 0.099 0.1   0.499 0.367\n",
      " 0.1   5.593 0.214 0.169 0.477 1.537 0.157 1.669 3.5   0.309 1.351 0.544\n",
      " 0.398]\n"
     ]
    }
   ],
   "source": [
    "N=25\n",
    "lambd=1\n",
    "X=np.array([round(random.expovariate(lambd),3) for i in range(N)])\n",
    "print(X)"
   ]
  },
  {
   "cell_type": "code",
   "execution_count": 560,
   "id": "901a1d13",
   "metadata": {},
   "outputs": [],
   "source": [
    "# a) Определить моду, медиану, размах, коэффициент асимитрии"
   ]
  },
  {
   "cell_type": "code",
   "execution_count": 561,
   "id": "a482cb03",
   "metadata": {},
   "outputs": [
    {
     "name": "stdout",
     "output_type": "stream",
     "text": [
      "[0.014 0.099 0.1   0.1   0.157 0.169 0.214 0.273 0.309 0.367 0.398 0.477\n",
      " 0.499 0.544 0.835 1.094 1.351 1.537 1.556 1.669 2.242 2.443 3.5   4.47\n",
      " 5.593]\n"
     ]
    }
   ],
   "source": [
    "X=np.sort(X)\n",
    "print(X)"
   ]
  },
  {
   "cell_type": "code",
   "execution_count": 562,
   "id": "84a51778",
   "metadata": {},
   "outputs": [
    {
     "data": {
      "text/plain": [
       "0.1"
      ]
     },
     "execution_count": 562,
     "metadata": {},
     "output_type": "execute_result"
    }
   ],
   "source": [
    "#мода\n",
    "statistics.mode(X.round(1))"
   ]
  },
  {
   "cell_type": "code",
   "execution_count": 563,
   "id": "a978849e",
   "metadata": {},
   "outputs": [
    {
     "name": "stdout",
     "output_type": "stream",
     "text": [
      "0.544\n"
     ]
    }
   ],
   "source": [
    "#медиана\n",
    "if N%2==1:\n",
    "    med=np.sort(X)[N//2+1]\n",
    "else:\n",
    "    med=(np.sort(X)[N//2+1] + np.sort(X)[N//2])/2\n",
    "print(med)"
   ]
  },
  {
   "cell_type": "code",
   "execution_count": 564,
   "id": "94116534",
   "metadata": {},
   "outputs": [
    {
     "name": "stdout",
     "output_type": "stream",
     "text": [
      "5.579\n"
     ]
    }
   ],
   "source": [
    "#размах\n",
    "print(X[N-1]-X[0])"
   ]
  },
  {
   "cell_type": "code",
   "execution_count": 565,
   "id": "f2df1fbe",
   "metadata": {},
   "outputs": [],
   "source": [
    "#коэффициент асимметрии"
   ]
  },
  {
   "cell_type": "code",
   "execution_count": 566,
   "id": "2a7a259f",
   "metadata": {},
   "outputs": [
    {
     "name": "stdout",
     "output_type": "stream",
     "text": [
      "1.68\n"
     ]
    }
   ],
   "source": [
    "moment_3=moment(X, moment=3)\n",
    "s=np.std(X)\n",
    "gamma=round(moment_3/s**3, 2)\n",
    "print(gamma)"
   ]
  },
  {
   "cell_type": "code",
   "execution_count": 568,
   "id": "f2c5f4ac",
   "metadata": {},
   "outputs": [],
   "source": [
    "#б) построение эмпирической функции распределения и гистограмму, boxplot;"
   ]
  },
  {
   "cell_type": "code",
   "execution_count": 569,
   "id": "2182ef70",
   "metadata": {
    "scrolled": false
   },
   "outputs": [
    {
     "name": "stdout",
     "output_type": "stream",
     "text": [
      "[0.   0.04 0.08 0.08 0.16 0.2  0.24 0.28 0.32 0.36 0.4  0.44 0.48 0.52\n",
      " 0.56 0.6  0.64 0.68 0.72 0.76 0.8  0.84 0.88 0.92 0.96]\n"
     ]
    },
    {
     "data": {
      "image/png": "[encoded data removed]",
      "text/plain": [
       "<Figure size 720x432 with 1 Axes>"
      ]
     },
     "metadata": {
      "needs_background": "light"
     },
     "output_type": "display_data"
    }
   ],
   "source": [
    "y = np.array([np.sum(X<X[i]) for i in range(0,N)])/len(X)\n",
    "print(y)\n",
    "fig, ax = plt.subplots(figsize=(10, 6))\n",
    "plt.plot(X, y, color = 'blue')\n",
    "ax.set_title('Эмпирическая функция распределения')\n",
    "ax.set_xlabel('x')\n",
    "ax.set_ylabel('F(x)')\n",
    "plt.show()"
   ]
  },
  {
   "cell_type": "code",
   "execution_count": null,
   "id": "d3605335",
   "metadata": {},
   "outputs": [],
   "source": []
  },
  {
   "cell_type": "code",
   "execution_count": 594,
   "id": "858560e8",
   "metadata": {},
   "outputs": [
    {
     "data": {
      "image/png": "[encoded data removed]",
      "text/plain": [
       "<Figure size 720x432 with 1 Axes>"
      ]
     },
     "metadata": {
      "needs_background": "light"
     },
     "output_type": "display_data"
    }
   ],
   "source": [
    "k=1 + math.log2(N)\n",
    "fig, ax = plt.subplots(figsize=(10, 6))\n",
    "plt.hist(X, bins = int(k), density=True, histtype='bar', edgecolor='black', color = 'blue') \n",
    "plt.title(\"гистограмма\")\n",
    "plt.show()"
   ]
  },
  {
   "cell_type": "code",
   "execution_count": 571,
   "id": "f28db96d",
   "metadata": {},
   "outputs": [],
   "source": [
    "#boxplot"
   ]
  },
  {
   "cell_type": "code",
   "execution_count": 595,
   "id": "920407f4",
   "metadata": {},
   "outputs": [
    {
     "name": "stderr",
     "output_type": "stream",
     "text": [
      "C:\\Users\\User\\anaconda3\\lib\\site-packages\\seaborn\\_decorators.py:36: FutureWarning: Pass the following variable as a keyword arg: x. From version 0.12, the only valid positional argument will be `data`, and passing other arguments without an explicit keyword will result in an error or misinterpretation.\n",
      "  warnings.warn(\n"
     ]
    },
    {
     "data": {
      "image/png": "[encoded data removed]",
      "text/plain": [
       "<Figure size 720x432 with 1 Axes>"
      ]
     },
     "metadata": {
      "needs_background": "light"
     },
     "output_type": "display_data"
    }
   ],
   "source": [
    "fig, ax = plt.subplots(figsize = (10,6))\n",
    "bp = sns.boxplot(X, boxprops={\"facecolor\":\"blue\"},medianprops={\"color\": \"black\"},)\n",
    "plt.title(\"boxplot\")\n",
    "plt.show()"
   ]
  },
  {
   "cell_type": "code",
   "execution_count": 573,
   "id": "53b391f9",
   "metadata": {},
   "outputs": [],
   "source": [
    "#c) ядерная оценка плотности распределения"
   ]
  },
  {
   "cell_type": "code",
   "execution_count": 574,
   "id": "e219a724",
   "metadata": {},
   "outputs": [],
   "source": [
    "X_mean = X.mean()\n",
    "s = np.sqrt(1/(N-1)*np.sum((X-X_mean)**2))\n",
    "h = 2.344*s/(N**0.2)"
   ]
  },
  {
   "cell_type": "code",
   "execution_count": 575,
   "id": "08e1cd1c",
   "metadata": {},
   "outputs": [],
   "source": [
    "#ядро Епанечникова (-1,1)\n",
    "def q(y):\n",
    "    return 0.75*(1-y**2)"
   ]
  },
  {
   "cell_type": "code",
   "execution_count": 576,
   "id": "6304cc82",
   "metadata": {},
   "outputs": [],
   "source": [
    "def p_kernel(z):\n",
    "        return 1/(N*h)*np.sum(q(z-X)/h)"
   ]
  },
  {
   "cell_type": "code",
   "execution_count": 596,
   "id": "1f4fcac2",
   "metadata": {},
   "outputs": [
    {
     "data": {
      "image/png": "[encoded data removed]",
      "text/plain": [
       "<Figure size 432x288 with 1 Axes>"
      ]
     },
     "metadata": {
      "needs_background": "light"
     },
     "output_type": "display_data"
    }
   ],
   "source": [
    "P = np.array([0.]*100)\n",
    "for i in range(N):\n",
    "    x = np.linspace(-1., 5., 100)\n",
    "    q = np.array([])\n",
    "    for x in X:\n",
    "        if X[i]-h<=x and x<=X[i]+h:\n",
    "            q = np.append(q, 3/4 * (1 - ((x - X[i])/h) ** 2))\n",
    "        else:\n",
    "            q = np.append(q, 0)\n",
    "    for i in range(len(q)):\n",
    "        P[i] = (P[i]+q[i])\n",
    "x = np.linspace(-1., 5., 100)\n",
    "plt.plot(x, P)\n",
    "plt.title(\" ядерная оценка плотности распределения\")\n",
    "plt.show()"
   ]
  },
  {
   "cell_type": "code",
   "execution_count": 578,
   "id": "b211f8d7",
   "metadata": {},
   "outputs": [],
   "source": [
    "#d) определить плотность распределения среднего арифметического элементов выборки\n",
    "# сравнить с бутстраповской оценкой плотности\n"
   ]
  },
  {
   "cell_type": "code",
   "execution_count": null,
   "id": "1be9889a",
   "metadata": {},
   "outputs": [],
   "source": [
    "#расчёт в тетради"
   ]
  },
  {
   "cell_type": "code",
   "execution_count": 584,
   "id": "e01f0461",
   "metadata": {},
   "outputs": [
    {
     "data": {
      "image/png": "[encoded data removed]",
      "text/plain": [
       "<Figure size 432x288 with 1 Axes>"
      ]
     },
     "metadata": {
      "needs_background": "light"
     },
     "output_type": "display_data"
    }
   ],
   "source": [
    "m=1\n",
    "D=0.04\n",
    "s=math.sqrt(D)\n",
    "x=np.linspace(m-3*s, m+ 3*s, 100)\n",
    "plt.plot(x, sps.norm.pdf(x, m, s))\n",
    "plt.title(\"плотность распределения среднего арифметического элементов выборки\")\n",
    "plt.show()"
   ]
  },
  {
   "cell_type": "code",
   "execution_count": 581,
   "id": "12ecb8ce",
   "metadata": {},
   "outputs": [],
   "source": [
    "#бутстраповская оценка плотности"
   ]
  },
  {
   "cell_type": "code",
   "execution_count": 582,
   "id": "1fb9c43c",
   "metadata": {},
   "outputs": [],
   "source": [
    "mean_1=[]\n",
    "for i in range(1000):\n",
    "    mean_sample= np.random.choice(X, size=N, replace=True)\n",
    "    mean_1.append(mean_sample.mean())"
   ]
  },
  {
   "cell_type": "code",
   "execution_count": 583,
   "id": "6a7a5516",
   "metadata": {},
   "outputs": [
    {
     "data": {
      "image/png": "[encoded data removed]",
      "text/plain": [
       "<Figure size 432x288 with 1 Axes>"
      ]
     },
     "metadata": {
      "needs_background": "light"
     },
     "output_type": "display_data"
    }
   ],
   "source": [
    "plt.title(\"бутстраповская оценка плотности\")\n",
    "seaborn.histplot(mean_1, bins = N, stat=\"probability\",common_norm=True)\n",
    "plt.show()"
   ]
  },
  {
   "cell_type": "code",
   "execution_count": 485,
   "id": "bed36f81",
   "metadata": {},
   "outputs": [],
   "source": [
    "#e) найти бутстраповскую оценку плотности распределения коэффициента асимметрии"
   ]
  },
  {
   "cell_type": "code",
   "execution_count": 486,
   "id": "d1f34763",
   "metadata": {},
   "outputs": [],
   "source": [
    "gamma=[]\n",
    "for i in range(1000):\n",
    "    gamma_sample = np.random.choice(X, size=N, replace=True)\n",
    "    gamma.append(scs.skew(gamma_sample))"
   ]
  },
  {
   "cell_type": "code",
   "execution_count": 487,
   "id": "7a64402c",
   "metadata": {
    "scrolled": true
   },
   "outputs": [
    {
     "data": {
      "image/png": "[encoded data removed]",
      "text/plain": [
       "<Figure size 432x288 with 1 Axes>"
      ]
     },
     "metadata": {
      "needs_background": "light"
     },
     "output_type": "display_data"
    }
   ],
   "source": [
    "plt.title('Бутстраповская оценка плотности распределения коэффициента ассиметрии')\n",
    "plt.hist(gamma, N)\n",
    "plt.show()"
   ]
  },
  {
   "cell_type": "code",
   "execution_count": null,
   "id": "dbe61336",
   "metadata": {},
   "outputs": [],
   "source": []
  },
  {
   "cell_type": "code",
   "execution_count": null,
   "id": "23cc75da",
   "metadata": {},
   "outputs": [],
   "source": []
  }
 ],
 "metadata": {
  "kernelspec": {
   "display_name": "Python 3",
   "language": "python",
   "name": "python3"
  },
  "language_info": {
   "codemirror_mode": {
    "name": "ipython",
    "version": 3
   },
   "file_extension": ".py",
   "mimetype": "text/x-python",
   "name": "python",
   "nbconvert_exporter": "python",
   "pygments_lexer": "ipython3",
   "version": "3.8.8"
  }
 },
 "nbformat": 4,
 "nbformat_minor": 5
}
